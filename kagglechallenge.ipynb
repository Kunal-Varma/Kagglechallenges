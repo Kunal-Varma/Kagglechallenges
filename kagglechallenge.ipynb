{
  "nbformat": 4,
  "nbformat_minor": 0,
  "metadata": {
    "colab": {
      "name": "kagglechallenge.ipynb",
      "version": "0.3.2",
      "provenance": [],
      "collapsed_sections": []
    },
    "kernelspec": {
      "name": "python3",
      "display_name": "Python 3"
    }
  },
  "cells": [
    {
      "metadata": {
        "id": "2eIQITzZe6Ko",
        "colab_type": "code",
        "outputId": "c41e3162-d41b-4477-aef6-2640759bf02f",
        "colab": {
          "base_uri": "https://localhost:8080/",
          "height": 34
        }
      },
      "cell_type": "code",
      "source": [
        "print('hello')"
      ],
      "execution_count": 0,
      "outputs": [
        {
          "output_type": "stream",
          "text": [
            "hello\n"
          ],
          "name": "stdout"
        }
      ]
    },
    {
      "metadata": {
        "id": "FcnpYgkqfEOs",
        "colab_type": "code",
        "colab": {}
      },
      "cell_type": "code",
      "source": [
        "# Install the PyDrive wrapper & import libraries.\n",
        "# This only needs to be done once per notebook.\n",
        "!pip install -U -q PyDrive\n",
        "from pydrive.auth import GoogleAuth\n",
        "from pydrive.drive import GoogleDrive\n",
        "from google.colab import auth\n",
        "from oauth2client.client import GoogleCredentials\n",
        "\n",
        "# Authenticate and create the PyDrive client.\n",
        "# This only needs to be done once per notebook.\n",
        "auth.authenticate_user()\n",
        "gauth = GoogleAuth()\n",
        "gauth.credentials = GoogleCredentials.get_application_default()\n",
        "drive = GoogleDrive(gauth)\n",
        "\n"
      ],
      "execution_count": 0,
      "outputs": []
    },
    {
      "metadata": {
        "id": "oruLCEsqg5IH",
        "colab_type": "code",
        "colab": {}
      },
      "cell_type": "code",
      "source": [
        " \n",
        "\n",
        "train_downloaded =drive.CreateFile({'id':'1HV9Wqtx4axR_9JnyiKTXbGS0mLrbPI7g'})\n",
        "train_downloaded.GetContentFile('train.csv')\n",
        "test_downloaded =drive.CreateFile({'id':'1lewxCJz9aYnOfHGQPeo65tzVpQfQ-wQ8'})\n",
        "test_downloaded.GetContentFile('test.csv')\n"
      ],
      "execution_count": 0,
      "outputs": []
    },
    {
      "metadata": {
        "id": "G354_6RulWTZ",
        "colab_type": "code",
        "colab": {}
      },
      "cell_type": "code",
      "source": [
        "#data dependencies\n",
        "import pandas as pd\n",
        "import numpy as np\n",
        "import matplotlib.pyplot as plt\n",
        "plt.rcParams['figure.figsize'] =[16,10]\n",
        "import seaborn as sns\n",
        "\n",
        "from sklearn.model_selection import train_test_split\n",
        "import xgboost as xgb\n",
        "from sklearn.model_selection import ShuffleSplit\n",
        "from sklearn.model_selection import cross_val_score\n",
        "\n",
        "\n",
        "\n",
        "\n",
        "\n",
        "\n",
        "%matplotlib inline\n",
        "plt.rcParams['axes.unicode_minus'] = False\n"
      ],
      "execution_count": 0,
      "outputs": []
    },
    {
      "metadata": {
        "id": "UHyVsxTuml1b",
        "colab_type": "code",
        "outputId": "9b2a20cc-41b2-4b0f-a212-e5cbcfb068a8",
        "colab": {
          "base_uri": "https://localhost:8080/",
          "height": 142
        }
      },
      "cell_type": "code",
      "source": [
        "df_train = pd.read_csv('train.csv')\n",
        "df_test =pd.read_csv(\"test.csv\")\n",
        "df_train.head(3)"
      ],
      "execution_count": 36,
      "outputs": [
        {
          "output_type": "execute_result",
          "data": {
            "text/html": [
              "<div>\n",
              "<style scoped>\n",
              "    .dataframe tbody tr th:only-of-type {\n",
              "        vertical-align: middle;\n",
              "    }\n",
              "\n",
              "    .dataframe tbody tr th {\n",
              "        vertical-align: top;\n",
              "    }\n",
              "\n",
              "    .dataframe thead th {\n",
              "        text-align: right;\n",
              "    }\n",
              "</style>\n",
              "<table border=\"1\" class=\"dataframe\">\n",
              "  <thead>\n",
              "    <tr style=\"text-align: right;\">\n",
              "      <th></th>\n",
              "      <th>id</th>\n",
              "      <th>vendor_id</th>\n",
              "      <th>pickup_datetime</th>\n",
              "      <th>dropoff_datetime</th>\n",
              "      <th>passenger_count</th>\n",
              "      <th>pickup_longitude</th>\n",
              "      <th>pickup_latitude</th>\n",
              "      <th>dropoff_longitude</th>\n",
              "      <th>dropoff_latitude</th>\n",
              "      <th>store_and_fwd_flag</th>\n",
              "      <th>trip_duration</th>\n",
              "    </tr>\n",
              "  </thead>\n",
              "  <tbody>\n",
              "    <tr>\n",
              "      <th>0</th>\n",
              "      <td>id2875421</td>\n",
              "      <td>2</td>\n",
              "      <td>2016-03-14 17:24:55</td>\n",
              "      <td>2016-03-14 17:32:30</td>\n",
              "      <td>1</td>\n",
              "      <td>-73.982155</td>\n",
              "      <td>40.767937</td>\n",
              "      <td>-73.964630</td>\n",
              "      <td>40.765602</td>\n",
              "      <td>N</td>\n",
              "      <td>455</td>\n",
              "    </tr>\n",
              "    <tr>\n",
              "      <th>1</th>\n",
              "      <td>id2377394</td>\n",
              "      <td>1</td>\n",
              "      <td>2016-06-12 00:43:35</td>\n",
              "      <td>2016-06-12 00:54:38</td>\n",
              "      <td>1</td>\n",
              "      <td>-73.980415</td>\n",
              "      <td>40.738564</td>\n",
              "      <td>-73.999481</td>\n",
              "      <td>40.731152</td>\n",
              "      <td>N</td>\n",
              "      <td>663</td>\n",
              "    </tr>\n",
              "    <tr>\n",
              "      <th>2</th>\n",
              "      <td>id3858529</td>\n",
              "      <td>2</td>\n",
              "      <td>2016-01-19 11:35:24</td>\n",
              "      <td>2016-01-19 12:10:48</td>\n",
              "      <td>1</td>\n",
              "      <td>-73.979027</td>\n",
              "      <td>40.763939</td>\n",
              "      <td>-74.005333</td>\n",
              "      <td>40.710087</td>\n",
              "      <td>N</td>\n",
              "      <td>2124</td>\n",
              "    </tr>\n",
              "  </tbody>\n",
              "</table>\n",
              "</div>"
            ],
            "text/plain": [
              "          id  vendor_id      pickup_datetime     dropoff_datetime  \\\n",
              "0  id2875421          2  2016-03-14 17:24:55  2016-03-14 17:32:30   \n",
              "1  id2377394          1  2016-06-12 00:43:35  2016-06-12 00:54:38   \n",
              "2  id3858529          2  2016-01-19 11:35:24  2016-01-19 12:10:48   \n",
              "\n",
              "   passenger_count  pickup_longitude  pickup_latitude  dropoff_longitude  \\\n",
              "0                1        -73.982155        40.767937         -73.964630   \n",
              "1                1        -73.980415        40.738564         -73.999481   \n",
              "2                1        -73.979027        40.763939         -74.005333   \n",
              "\n",
              "   dropoff_latitude store_and_fwd_flag  trip_duration  \n",
              "0         40.765602                  N            455  \n",
              "1         40.731152                  N            663  \n",
              "2         40.710087                  N           2124  "
            ]
          },
          "metadata": {
            "tags": []
          },
          "execution_count": 36
        }
      ]
    },
    {
      "metadata": {
        "id": "xX17Bpo3oKtL",
        "colab_type": "code",
        "colab": {}
      },
      "cell_type": "code",
      "source": [
        "df_test =pd.read_csv('test.csv')\n",
        "df_test.head()"
      ],
      "execution_count": 0,
      "outputs": []
    },
    {
      "metadata": {
        "id": "s0ROjV2yJrU1",
        "colab_type": "code",
        "colab": {}
      },
      "cell_type": "code",
      "source": [
        "features = df_train[[\t'vendor_id',\t\t\t'passenger_count',\t'pickup_longitude'\t,'pickup_latitude'\t,'dropoff_longitude'\t,'dropoff_latitude']]\n"
      ],
      "execution_count": 0,
      "outputs": []
    },
    {
      "metadata": {
        "id": "J7vDhQ66MYT3",
        "colab_type": "code",
        "colab": {}
      },
      "cell_type": "code",
      "source": [
        "target=df_train['trip_duration']"
      ],
      "execution_count": 0,
      "outputs": []
    },
    {
      "metadata": {
        "id": "fZv7eR_1KwBV",
        "colab_type": "code",
        "colab": {}
      },
      "cell_type": "code",
      "source": [
        "tfeatures=df_test[['vendor_id'\t\t,'passenger_count'\t,'pickup_longitude'\t,'pickup_latitude'\t,'dropoff_longitude'\t,'dropoff_latitude'\t]]"
      ],
      "execution_count": 0,
      "outputs": []
    },
    {
      "metadata": {
        "id": "O3V4Uj44oWSo",
        "colab_type": "code",
        "outputId": "e3198a06-0711-4c8f-a94e-b25dde7c2de7",
        "colab": {
          "base_uri": "https://localhost:8080/",
          "height": 279
        }
      },
      "cell_type": "code",
      "source": [
        "#data preprocessing\n",
        "\n",
        "## how long is avg trip duration\n",
        "\n",
        "df_train['log_trip_duration'] = np.log(df_train['trip_duration'].values + 1)\n",
        "plt.hist(df_train['log_trip_duration'].values, bins =100)\n",
        "plt.xlabel('log(trip_duration)')\n",
        "plt.ylabel('number of training records')\n",
        "plt.show()"
      ],
      "execution_count": 0,
      "outputs": [
        {
          "output_type": "display_data",
          "data": {
            "image/png": "[encoded data removed]",
            "text/plain": [
              "<Figure size 432x288 with 1 Axes>"
            ]
          },
          "metadata": {
            "tags": []
          }
        }
      ]
    },
    {
      "metadata": {
        "id": "BfA6epIaqVwy",
        "colab_type": "code",
        "outputId": "c9feb29f-fd1f-4393-a30b-220909f4be67",
        "colab": {
          "base_uri": "https://localhost:8080/",
          "height": 265
        }
      },
      "cell_type": "code",
      "source": [
        "N=10000\n",
        "city_long_border=(-74,-74)\n",
        "city_lat_border=(40,40)\n",
        "fig,ax = plt.subplots(ncols=2,sharex =True,sharey=True)\n",
        "ax[0].scatter(df_train['pickup_longitude'].values[:N],\n",
        "              df_train['pickup_latitude'].values[:N],\n",
        "             color='blue',s=1,label='train',alpha=0.1)\n",
        "\n",
        "ax[1].scatter(df_train['pickup_longitude'].values[:N],\n",
        "              df_train['pickup_latitude'].values[:N],\n",
        "             color='green',s=1,label='train',alpha=0.1)\n",
        "plt.show()"
      ],
      "execution_count": 0,
      "outputs": [
        {
          "output_type": "display_data",
          "data": {
            "image/png": "[encoded data removed]",
            "text/plain": [
              "<Figure size 432x288 with 2 Axes>"
            ]
          },
          "metadata": {
            "tags": []
          }
        }
      ]
    },
    {
      "metadata": {
        "id": "ec2uspEBwTLD",
        "colab_type": "code",
        "colab": {}
      },
      "cell_type": "code",
      "source": [
        "def rmsle(evaluator,X,real):\n",
        "    sum = 0.0\n",
        "    predicted = evaluator.predict(X)\n",
        "    print(\"Number predicted less than 0: {}\".format(np.where(predicted < 0)[0].shape))\n",
        "\n",
        "    predicted[predicted < 0] = 0\n",
        "    for x in range(len(predicted)):\n",
        "        p = np.log(predicted[x]+1)\n",
        "        r = np.log(real[x]+1)\n",
        "        sum = sum + (p-r)**2\n",
        "    return (sum/len(predicted))**0.5"
      ],
      "execution_count": 0,
      "outputs": []
    },
    {
      "metadata": {
        "id": "qXSbzo48GT9q",
        "colab_type": "code",
        "colab": {}
      },
      "cell_type": "code",
      "source": [
        "params = {'n_estimators': 100, 'seed':0, 'colsample_bytree': 1, \n",
        "             'max_depth': 7, 'min_child_weight': 1,'learning_rate': 0.1, 'subsample': 0.8}"
      ],
      "execution_count": 0,
      "outputs": []
    },
    {
      "metadata": {
        "id": "XrH27aIAGXRC",
        "colab_type": "code",
        "outputId": "2715827b-3f4d-4b54-e8ce-303ac40c2946",
        "colab": {
          "base_uri": "https://localhost:8080/",
          "height": 204
        }
      },
      "cell_type": "code",
      "source": [
        "reg = xgb.XGBRegressor(n_estimators=100, seed=0,learning_rate=0.1, subsample=0.8,\n",
        "                           colsample_bytree=1, max_depth=7,min_child_weight= 1)\n",
        "\n",
        "cv = ShuffleSplit(n_splits=4, test_size=0.1, random_state=0)\n",
        "print(cross_val_score(reg, features, np.ravel(target), cv=cv,scoring=rmsle))\n",
        "reg.fit(features,target)"
      ],
      "execution_count": 54,
      "outputs": [
        {
          "output_type": "stream",
          "text": [
            "Number predicted less than 0: (4,)\n",
            "Number predicted less than 0: (15,)\n",
            "Number predicted less than 0: (20,)\n",
            "Number predicted less than 0: (8,)\n",
            "[0.65412313 0.65885624 0.65611558 0.64966921]\n"
          ],
          "name": "stdout"
        },
        {
          "output_type": "execute_result",
          "data": {
            "text/plain": [
              "XGBRegressor(base_score=0.5, booster='gbtree', colsample_bylevel=1,\n",
              "       colsample_bytree=1, gamma=0, learning_rate=0.1, max_delta_step=0,\n",
              "       max_depth=7, min_child_weight=1, missing=None, n_estimators=100,\n",
              "       n_jobs=1, nthread=None, objective='reg:linear', random_state=0,\n",
              "       reg_alpha=0, reg_lambda=1, scale_pos_weight=1, seed=0, silent=True,\n",
              "       subsample=0.8)"
            ]
          },
          "metadata": {
            "tags": []
          },
          "execution_count": 54
        }
      ]
    },
    {
      "metadata": {
        "id": "pjw9pML8HwI_",
        "colab_type": "code",
        "colab": {
          "base_uri": "https://localhost:8080/",
          "height": 34
        },
        "outputId": "28328959-c0a7-4c62-a424-e546baed5199"
      },
      "cell_type": "code",
      "source": [
        "pred = reg.predict(tfeatures)\n",
        "print(np.where(pred < 0)[0].shape)\n",
        "pred[pred < 0] = 0\n",
        "df_test['trip_duration']=pred.astype(int)\n",
        "out = df_test[['id','trip_duration']]\n",
        "out['trip_duration'].isnull().values.any()\n",
        "out.to_csv('pred_xgboost2.csv',index=False)\n",
        "#0.45743\n"
      ],
      "execution_count": 56,
      "outputs": [
        {
          "output_type": "stream",
          "text": [
            "(33,)\n"
          ],
          "name": "stdout"
        }
      ]
    },
    {
      "metadata": {
        "id": "EpS_kE91I33f",
        "colab_type": "code",
        "colab": {}
      },
      "cell_type": "code",
      "source": [
        ""
      ],
      "execution_count": 0,
      "outputs": []
    }
  ]
}